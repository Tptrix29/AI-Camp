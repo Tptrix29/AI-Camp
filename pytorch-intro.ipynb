{
 "cells": [
  {
   "cell_type": "markdown",
   "metadata": {},
   "source": [
    "### PyTorch Class\n",
    "\n",
    "#### Data\n",
    "\n",
    "\n",
    "#### Layer\n",
    "\n",
    "\n",
    "#### Model\n",
    "1. `nn.Module`  [Doc](https://pytorch.org/docs/stable/nn.html#torch.nn.Module)\n",
    "\n",
    "\n",
    "### Optimizer"
   ]
  }
 ],
 "metadata": {
  "kernelspec": {
   "display_name": "ai-base",
   "language": "python",
   "name": "python3"
  },
  "language_info": {
   "codemirror_mode": {
    "name": "ipython",
    "version": 3
   },
   "file_extension": ".py",
   "mimetype": "text/x-python",
   "name": "python",
   "nbconvert_exporter": "python",
   "pygments_lexer": "ipython3",
   "version": "3.10.9"
  },
  "orig_nbformat": 4
 },
 "nbformat": 4,
 "nbformat_minor": 2
}
