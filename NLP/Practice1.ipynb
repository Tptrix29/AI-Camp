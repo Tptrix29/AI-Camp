{
 "cells": [
  {
   "cell_type": "markdown",
   "metadata": {},
   "source": [
    "## Part 1 -- Baseline Analysis\n",
    "### Mission Description\n",
    "- Mission 1: Classification (Predict the label of literatures)\n",
    "- Mission 2: Keywords Extraction \n",
    "\n",
    "### Feature Extraction\n",
    "1. TF-IDF Algorithm: `TfidfVectorizer`  \n",
    "    TF (Term Frequency): frequence of word occurance in document.  \n",
    "    $$ \n",
    "    TF = \\frac{\\#SpecificWordOfDoc}{\\#TotalWordOfDoc}\n",
    "    $$\n",
    "    IDF (Inverse Document Frequency): metric to evaluate the weight of word. The high value means a unnormal word.\n",
    "    $$\n",
    "    IDF = log(\\frac{\\#DocInCorpora}{\\#DocWithinSpecificWord + 1})\n",
    "    $$\n",
    "    The importance of a specific word positively correlate to its occurance in document, and negatively to its occurance in corpora.\n",
    "    $$\n",
    "    TF-IDF = TF * IDF\n",
    "    $$\n",
    "    \n",
    "    \n",
    "2. BOW (Bag Of Words) model: `CountVectorizer`\n",
    "\n",
    "Operation: Just extract features through `sklearn` package.\n",
    "\n",
    "### Keyword Extraction\n",
    "**Tokenization**: Break unstructured data and natural language text into chunks of information that can be considered as discrete elements.  \n",
    "[Blog - Introduction of Tokenization in NLP](https://neptune.ai/blog/tokenization-in-nlp)\n",
    "\n",
    "\n",
    "**N-grams**: sequence of N words.  \n",
    "[Blog - Introduction of N-grams](https://blog.xrds.acm.org/2017/10/introduction-n-grams-need/)\n",
    "\n",
    "1. `word_tokenize`\n",
    "2. `ngrams`\n",
    "\n",
    "Operation:\n",
    "1. Stop word removal\n",
    "2. Extract keywords through frequency of word."
   ]
  },
  {
   "cell_type": "code",
   "execution_count": 1,
   "metadata": {},
   "outputs": [],
   "source": [
    "import pandas as pd\n",
    "from sklearn.feature_extraction.text import CountVectorizer, TfidfVectorizer\n",
    "from sklearn.linear_model import LogisticRegression\n",
    "\n",
    "from warnings import simplefilter\n",
    "from sklearn.exceptions import ConvergenceWarning\n",
    "simplefilter(\"ignore\", category=ConvergenceWarning)"
   ]
  },
  {
   "cell_type": "code",
   "execution_count": null,
   "metadata": {},
   "outputs": [],
   "source": [
    "# Load Raw Data and NA Processing\n",
    "train = pd.read_csv('')\n",
    "train['title'] = train['title'].fillna('')\n",
    "train['abstract'] = train['abstract'].fillna('')\n",
    "\n",
    "test = pd.read_csv('')\n",
    "test['title'] = test['title'].fillna('')\n",
    "test['abstract'] = test['abstract'].fillna('')"
   ]
  },
  {
   "cell_type": "code",
   "execution_count": null,
   "metadata": {},
   "outputs": [],
   "source": [
    "# Feature Extraction\n",
    "train['text'] = train['title'] + ' ' + train['author'].fillna('') + ' ' + train['abstract'] + train['keywords'].fillna('')\n",
    "\n",
    "test['text'] = test['title'] + ' ' + test['author'].fillna('') + ' ' + test['abstract'] + test['keywords'].fillna('')"
   ]
  },
  {
   "cell_type": "code",
   "execution_count": null,
   "metadata": {},
   "outputs": [],
   "source": [
    "# TF-IDF Model\n",
    "\n",
    "# BOW Model\n"
   ]
  }
 ],
 "metadata": {
  "kernelspec": {
   "display_name": "stable-diffusion-webui",
   "language": "python",
   "name": "python3"
  },
  "language_info": {
   "name": "python",
   "version": "3.10.9"
  },
  "orig_nbformat": 4
 },
 "nbformat": 4,
 "nbformat_minor": 2
}
