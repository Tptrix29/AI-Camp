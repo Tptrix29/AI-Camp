{
 "cells": [
  {
   "cell_type": "markdown",
   "metadata": {},
   "source": [
    "### Baseline\n",
    "\n",
    "Classifier: KNN"
   ]
  },
  {
   "cell_type": "code",
   "execution_count": null,
   "metadata": {},
   "outputs": [],
   "source": [
    "import os, sys, glob, argparse\n",
    "from PIL import Image\n",
    "import cv2\n",
    "import pandas as pd\n",
    "import numpy as np\n",
    "from tqdm import tqdm\n",
    "\n",
    "from sklearn.neighbors import KNeighborsClassifier\n",
    "from sklearn.ensemble import RandomForestClassifier\n",
    "from sklearn.model_selection import cross_val_predict\n",
    "from sklearn.metrics import classification_report"
   ]
  },
  {
   "cell_type": "code",
   "execution_count": null,
   "metadata": {},
   "outputs": [],
   "source": [
    "# Data Loading\n",
    "train_path = glob.glob('./data/train/*')\n",
    "test_path = glob.glob('./data/test/*')\n",
    "\n",
    "train_path.sort()\n",
    "test_path.sort()\n",
    "\n",
    "train_df = pd.read_csv('data/train.csv')\n",
    "train_df = train_df.sort_values(by='name')\n",
    "train_label = train_df['label'].values"
   ]
  },
  {
   "cell_type": "code",
   "execution_count": null,
   "metadata": {},
   "outputs": [],
   "source": [
    "# Feature Engineering\n",
    "def image_feat(path):\n",
    "    img = cv2.imread(path, 0)\n",
    "    img = img.astype(np.float32)\n",
    "    feat = [\n",
    "        (img != 0).sum(),              # 非零像素的数量\n",
    "        (img == 0).sum(),              # 零像素的数量\n",
    "        img.mean(),                    # 平均值\n",
    "        img.std(),                     # 标准差\n",
    "        len(np.where(img.mean(0))[0]), # 在列方向上平均值不为零的数量\n",
    "        len(np.where(img.mean(1))[0]), # 在行方向上平均值不为零的数量\n",
    "        img.mean(0).max(),             # 列方向上的最大平均值\n",
    "        img.mean(1).max()              # 行方向上的最大平均值\n",
    "    ]\n",
    "    return feat"
   ]
  },
  {
   "cell_type": "code",
   "execution_count": null,
   "metadata": {},
   "outputs": [],
   "source": [
    "# Train & Evaluation\n",
    "# 训练集特征\n",
    "train_feat = []\n",
    "for path in tqdm(train_path):\n",
    "    train_feat += [image_feat(path)]\n",
    "\n",
    "# 测试集特征\n",
    "test_feat = []\n",
    "for path in tqdm(test_path):\n",
    "    test_feat += [image_feat(path)]\n",
    "    \n",
    "# 训练集交叉验证\n",
    "train_pred = cross_val_predict(\n",
    "    KNeighborsClassifier(),\n",
    "    np.array(train_feat),\n",
    "    train_label\n",
    ")\n",
    "print(classification_report(train_label, train_pred))\n",
    "\n",
    "# 模型训练与预测\n",
    "model = KNeighborsClassifier()\n",
    "model.fit(\n",
    "    np.array(train_feat),\n",
    "    train_label\n",
    ")\n",
    "test_pred = model.predict(np.array(test_feat))"
   ]
  },
  {
   "cell_type": "code",
   "execution_count": null,
   "metadata": {},
   "outputs": [],
   "source": [
    "# Output\n",
    "submit = pd.DataFrame(\n",
    "    {\n",
    "        'name': [x.split('/')[-1] for x in test_path],\n",
    "        'label': test_pred\n",
    "})\n",
    "submit = submit.sort_values(by='name')\n",
    "submit.to_csv('submit.csv', index=None)"
   ]
  }
 ],
 "metadata": {
  "kernelspec": {
   "display_name": "ai-base",
   "language": "python",
   "name": "python3"
  },
  "language_info": {
   "name": "python",
   "version": "3.10.9"
  },
  "orig_nbformat": 4
 },
 "nbformat": 4,
 "nbformat_minor": 2
}
