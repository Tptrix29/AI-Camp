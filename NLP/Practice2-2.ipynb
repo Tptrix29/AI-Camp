{
 "cells": [
  {
   "cell_type": "markdown",
   "metadata": {},
   "source": [
    "## Part 2 -- BERT Application 2\n",
    "- Mission1: Binary Classification\n",
    "- Mission2: Keywords Extraction *\n",
    "\n",
    "Operation: \n",
    "Calculate the similarity between keywords embedding and sentence embedding\n"
   ]
  },
  {
   "cell_type": "code",
   "execution_count": null,
   "metadata": {
    "vscode": {
     "languageId": "plaintext"
    }
   },
   "outputs": [],
   "source": []
  }
 ],
 "metadata": {
  "language_info": {
   "name": "python"
  },
  "orig_nbformat": 4
 },
 "nbformat": 4,
 "nbformat_minor": 2
}
